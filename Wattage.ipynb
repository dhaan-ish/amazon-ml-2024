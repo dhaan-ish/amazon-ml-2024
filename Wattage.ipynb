{
  "nbformat": 4,
  "nbformat_minor": 0,
  "metadata": {
    "colab": {
      "provenance": [],
      "gpuType": "V28"
    },
    "kernelspec": {
      "name": "python3",
      "display_name": "Python 3"
    },
    "language_info": {
      "name": "python"
    },
    "accelerator": "TPU"
  },
  "cells": [
    {
      "cell_type": "code",
      "execution_count": null,
      "metadata": {
        "colab": {
          "base_uri": "https://localhost:8080/"
        },
        "id": "4S0kqH3OjdBD",
        "outputId": "3ad8e605-0f3d-4a21-c4a6-3d432c61e503",
        "collapsed": true
      },
      "outputs": [
        {
          "output_type": "stream",
          "name": "stdout",
          "text": [
            "Collecting paddlepaddle\n",
            "  Downloading paddlepaddle-2.6.2-cp310-cp310-manylinux1_x86_64.whl.metadata (8.6 kB)\n",
            "Collecting paddleocr\n",
            "  Downloading paddleocr-2.8.1-py3-none-any.whl.metadata (19 kB)\n",
            "Collecting httpx (from paddlepaddle)\n",
            "  Downloading httpx-0.27.2-py3-none-any.whl.metadata (7.1 kB)\n",
            "Requirement already satisfied: numpy>=1.13 in /usr/local/lib/python3.10/dist-packages (from paddlepaddle) (1.26.4)\n",
            "Requirement already satisfied: Pillow in /usr/local/lib/python3.10/dist-packages (from paddlepaddle) (10.4.0)\n",
            "Requirement already satisfied: decorator in /usr/local/lib/python3.10/dist-packages (from paddlepaddle) (5.1.1)\n",
            "Collecting astor (from paddlepaddle)\n",
            "  Downloading astor-0.8.1-py2.py3-none-any.whl.metadata (4.2 kB)\n",
            "Requirement already satisfied: opt-einsum==3.3.0 in /usr/local/lib/python3.10/dist-packages (from paddlepaddle) (3.3.0)\n",
            "Requirement already satisfied: protobuf>=3.20.2 in /usr/local/lib/python3.10/dist-packages (from paddlepaddle) (3.20.3)\n",
            "Collecting shapely (from paddleocr)\n",
            "  Downloading shapely-2.0.6-cp310-cp310-manylinux_2_17_x86_64.manylinux2014_x86_64.whl.metadata (7.0 kB)\n",
            "Requirement already satisfied: scikit-image in /usr/local/lib/python3.10/dist-packages (from paddleocr) (0.23.2)\n",
            "Collecting imgaug (from paddleocr)\n",
            "  Downloading imgaug-0.4.0-py2.py3-none-any.whl.metadata (1.8 kB)\n",
            "Collecting pyclipper (from paddleocr)\n",
            "  Downloading pyclipper-1.3.0.post5-cp310-cp310-manylinux_2_12_x86_64.manylinux2010_x86_64.whl.metadata (9.0 kB)\n",
            "Collecting lmdb (from paddleocr)\n",
            "  Downloading lmdb-1.5.1-cp310-cp310-manylinux_2_17_x86_64.manylinux2014_x86_64.whl.metadata (1.1 kB)\n",
            "Requirement already satisfied: tqdm in /usr/local/lib/python3.10/dist-packages (from paddleocr) (4.66.5)\n",
            "Collecting rapidfuzz (from paddleocr)\n",
            "  Downloading rapidfuzz-3.9.7-cp310-cp310-manylinux_2_17_x86_64.manylinux2014_x86_64.whl.metadata (12 kB)\n",
            "Requirement already satisfied: opencv-python in /usr/local/lib/python3.10/dist-packages (from paddleocr) (4.10.0.84)\n",
            "Collecting opencv-contrib-python (from paddleocr)\n",
            "  Downloading opencv_contrib_python-4.10.0.84-cp37-abi3-manylinux_2_17_x86_64.manylinux2014_x86_64.whl.metadata (20 kB)\n",
            "Collecting cython (from paddleocr)\n",
            "  Downloading Cython-3.0.11-cp310-cp310-manylinux_2_17_x86_64.manylinux2014_x86_64.whl.metadata (3.2 kB)\n",
            "Requirement already satisfied: pyyaml in /usr/local/lib/python3.10/dist-packages (from paddleocr) (6.0.2)\n",
            "Collecting python-docx (from paddleocr)\n",
            "  Downloading python_docx-1.1.2-py3-none-any.whl.metadata (2.0 kB)\n",
            "Requirement already satisfied: beautifulsoup4 in /usr/local/lib/python3.10/dist-packages (from paddleocr) (4.12.3)\n",
            "Requirement already satisfied: fonttools>=4.24.0 in /usr/local/lib/python3.10/dist-packages (from paddleocr) (4.53.1)\n",
            "Collecting fire>=0.3.0 (from paddleocr)\n",
            "  Downloading fire-0.6.0.tar.gz (88 kB)\n",
            "\u001b[2K     \u001b[90m━━━━━━━━━━━━━━━━━━━━━━━━━━━━━━━━━━━━━━━━\u001b[0m \u001b[32m88.4/88.4 kB\u001b[0m \u001b[31m1.5 MB/s\u001b[0m eta \u001b[36m0:00:00\u001b[0m\n",
            "\u001b[?25h  Preparing metadata (setup.py) ... \u001b[?25l\u001b[?25hdone\n",
            "Requirement already satisfied: requests in /usr/local/lib/python3.10/dist-packages (from paddleocr) (2.32.3)\n",
            "Requirement already satisfied: six in /usr/local/lib/python3.10/dist-packages (from fire>=0.3.0->paddleocr) (1.16.0)\n",
            "Requirement already satisfied: termcolor in /usr/local/lib/python3.10/dist-packages (from fire>=0.3.0->paddleocr) (2.4.0)\n",
            "Requirement already satisfied: soupsieve>1.2 in /usr/local/lib/python3.10/dist-packages (from beautifulsoup4->paddleocr) (2.6)\n",
            "Requirement already satisfied: anyio in /usr/local/lib/python3.10/dist-packages (from httpx->paddlepaddle) (3.7.1)\n",
            "Requirement already satisfied: certifi in /usr/local/lib/python3.10/dist-packages (from httpx->paddlepaddle) (2024.8.30)\n",
            "Collecting httpcore==1.* (from httpx->paddlepaddle)\n",
            "  Downloading httpcore-1.0.5-py3-none-any.whl.metadata (20 kB)\n",
            "Requirement already satisfied: idna in /usr/local/lib/python3.10/dist-packages (from httpx->paddlepaddle) (3.8)\n",
            "Requirement already satisfied: sniffio in /usr/local/lib/python3.10/dist-packages (from httpx->paddlepaddle) (1.3.1)\n",
            "Collecting h11<0.15,>=0.13 (from httpcore==1.*->httpx->paddlepaddle)\n",
            "  Downloading h11-0.14.0-py3-none-any.whl.metadata (8.2 kB)\n",
            "Requirement already satisfied: scipy in /usr/local/lib/python3.10/dist-packages (from imgaug->paddleocr) (1.13.1)\n",
            "Requirement already satisfied: matplotlib in /usr/local/lib/python3.10/dist-packages (from imgaug->paddleocr) (3.7.1)\n",
            "Requirement already satisfied: imageio in /usr/local/lib/python3.10/dist-packages (from imgaug->paddleocr) (2.35.1)\n",
            "Requirement already satisfied: networkx>=2.8 in /usr/local/lib/python3.10/dist-packages (from scikit-image->paddleocr) (3.3)\n",
            "Requirement already satisfied: tifffile>=2022.8.12 in /usr/local/lib/python3.10/dist-packages (from scikit-image->paddleocr) (2024.8.30)\n",
            "Requirement already satisfied: packaging>=21 in /usr/local/lib/python3.10/dist-packages (from scikit-image->paddleocr) (24.1)\n",
            "Requirement already satisfied: lazy-loader>=0.4 in /usr/local/lib/python3.10/dist-packages (from scikit-image->paddleocr) (0.4)\n",
            "Collecting lxml>=3.1.0 (from python-docx->paddleocr)\n",
            "  Downloading lxml-5.3.0-cp310-cp310-manylinux_2_28_x86_64.whl.metadata (3.8 kB)\n",
            "Requirement already satisfied: typing-extensions>=4.9.0 in /usr/local/lib/python3.10/dist-packages (from python-docx->paddleocr) (4.12.2)\n",
            "Requirement already satisfied: charset-normalizer<4,>=2 in /usr/local/lib/python3.10/dist-packages (from requests->paddleocr) (3.3.2)\n",
            "Requirement already satisfied: urllib3<3,>=1.21.1 in /usr/local/lib/python3.10/dist-packages (from requests->paddleocr) (2.0.7)\n",
            "Requirement already satisfied: exceptiongroup in /usr/local/lib/python3.10/dist-packages (from anyio->httpx->paddlepaddle) (1.2.2)\n",
            "Requirement already satisfied: contourpy>=1.0.1 in /usr/local/lib/python3.10/dist-packages (from matplotlib->imgaug->paddleocr) (1.3.0)\n",
            "Requirement already satisfied: cycler>=0.10 in /usr/local/lib/python3.10/dist-packages (from matplotlib->imgaug->paddleocr) (0.12.1)\n",
            "Requirement already satisfied: kiwisolver>=1.0.1 in /usr/local/lib/python3.10/dist-packages (from matplotlib->imgaug->paddleocr) (1.4.7)\n",
            "Requirement already satisfied: pyparsing>=2.3.1 in /usr/local/lib/python3.10/dist-packages (from matplotlib->imgaug->paddleocr) (3.1.4)\n",
            "Requirement already satisfied: python-dateutil>=2.7 in /usr/local/lib/python3.10/dist-packages (from matplotlib->imgaug->paddleocr) (2.9.0.post0)\n",
            "Downloading paddlepaddle-2.6.2-cp310-cp310-manylinux1_x86_64.whl (126.0 MB)\n",
            "\u001b[2K   \u001b[90m━━━━━━━━━━━━━━━━━━━━━━━━━━━━━━━━━━━━━━━━\u001b[0m \u001b[32m126.0/126.0 MB\u001b[0m \u001b[31m8.2 MB/s\u001b[0m eta \u001b[36m0:00:00\u001b[0m\n",
            "\u001b[?25hDownloading paddleocr-2.8.1-py3-none-any.whl (407 kB)\n",
            "\u001b[2K   \u001b[90m━━━━━━━━━━━━━━━━━━━━━━━━━━━━━━━━━━━━━━━━\u001b[0m \u001b[32m407.5/407.5 kB\u001b[0m \u001b[31m5.5 MB/s\u001b[0m eta \u001b[36m0:00:00\u001b[0m\n",
            "\u001b[?25hDownloading astor-0.8.1-py2.py3-none-any.whl (27 kB)\n",
            "Downloading Cython-3.0.11-cp310-cp310-manylinux_2_17_x86_64.manylinux2014_x86_64.whl (3.6 MB)\n",
            "\u001b[2K   \u001b[90m━━━━━━━━━━━━━━━━━━━━━━━━━━━━━━━━━━━━━━━━\u001b[0m \u001b[32m3.6/3.6 MB\u001b[0m \u001b[31m72.8 MB/s\u001b[0m eta \u001b[36m0:00:00\u001b[0m\n",
            "\u001b[?25hDownloading httpx-0.27.2-py3-none-any.whl (76 kB)\n",
            "\u001b[2K   \u001b[90m━━━━━━━━━━━━━━━━━━━━━━━━━━━━━━━━━━━━━━━━\u001b[0m \u001b[32m76.4/76.4 kB\u001b[0m \u001b[31m4.1 MB/s\u001b[0m eta \u001b[36m0:00:00\u001b[0m\n",
            "\u001b[?25hDownloading httpcore-1.0.5-py3-none-any.whl (77 kB)\n",
            "\u001b[2K   \u001b[90m━━━━━━━━━━━━━━━━━━━━━━━━━━━━━━━━━━━━━━━━\u001b[0m \u001b[32m77.9/77.9 kB\u001b[0m \u001b[31m3.8 MB/s\u001b[0m eta \u001b[36m0:00:00\u001b[0m\n",
            "\u001b[?25hDownloading imgaug-0.4.0-py2.py3-none-any.whl (948 kB)\n",
            "\u001b[2K   \u001b[90m━━━━━━━━━━━━━━━━━━━━━━━━━━━━━━━━━━━━━━━━\u001b[0m \u001b[32m948.0/948.0 kB\u001b[0m \u001b[31m42.0 MB/s\u001b[0m eta \u001b[36m0:00:00\u001b[0m\n",
            "\u001b[?25hDownloading lmdb-1.5.1-cp310-cp310-manylinux_2_17_x86_64.manylinux2014_x86_64.whl (294 kB)\n",
            "\u001b[2K   \u001b[90m━━━━━━━━━━━━━━━━━━━━━━━━━━━━━━━━━━━━━━━━\u001b[0m \u001b[32m294.9/294.9 kB\u001b[0m \u001b[31m14.6 MB/s\u001b[0m eta \u001b[36m0:00:00\u001b[0m\n",
            "\u001b[?25hDownloading opencv_contrib_python-4.10.0.84-cp37-abi3-manylinux_2_17_x86_64.manylinux2014_x86_64.whl (68.7 MB)\n",
            "\u001b[2K   \u001b[90m━━━━━━━━━━━━━━━━━━━━━━━━━━━━━━━━━━━━━━━━\u001b[0m \u001b[32m68.7/68.7 MB\u001b[0m \u001b[31m15.5 MB/s\u001b[0m eta \u001b[36m0:00:00\u001b[0m\n",
            "\u001b[?25hDownloading pyclipper-1.3.0.post5-cp310-cp310-manylinux_2_12_x86_64.manylinux2010_x86_64.whl (908 kB)\n",
            "\u001b[2K   \u001b[90m━━━━━━━━━━━━━━━━━━━━━━━━━━━━━━━━━━━━━━━━\u001b[0m \u001b[32m908.3/908.3 kB\u001b[0m \u001b[31m43.4 MB/s\u001b[0m eta \u001b[36m0:00:00\u001b[0m\n",
            "\u001b[?25hDownloading python_docx-1.1.2-py3-none-any.whl (244 kB)\n",
            "\u001b[2K   \u001b[90m━━━━━━━━━━━━━━━━━━━━━━━━━━━━━━━━━━━━━━━━\u001b[0m \u001b[32m244.3/244.3 kB\u001b[0m \u001b[31m15.0 MB/s\u001b[0m eta \u001b[36m0:00:00\u001b[0m\n",
            "\u001b[?25hDownloading rapidfuzz-3.9.7-cp310-cp310-manylinux_2_17_x86_64.manylinux2014_x86_64.whl (3.4 MB)\n",
            "\u001b[2K   \u001b[90m━━━━━━━━━━━━━━━━━━━━━━━━━━━━━━━━━━━━━━━━\u001b[0m \u001b[32m3.4/3.4 MB\u001b[0m \u001b[31m56.7 MB/s\u001b[0m eta \u001b[36m0:00:00\u001b[0m\n",
            "\u001b[?25hDownloading shapely-2.0.6-cp310-cp310-manylinux_2_17_x86_64.manylinux2014_x86_64.whl (2.5 MB)\n",
            "\u001b[2K   \u001b[90m━━━━━━━━━━━━━━━━━━━━━━━━━━━━━━━━━━━━━━━━\u001b[0m \u001b[32m2.5/2.5 MB\u001b[0m \u001b[31m63.9 MB/s\u001b[0m eta \u001b[36m0:00:00\u001b[0m\n",
            "\u001b[?25hDownloading lxml-5.3.0-cp310-cp310-manylinux_2_28_x86_64.whl (5.0 MB)\n",
            "\u001b[2K   \u001b[90m━━━━━━━━━━━━━━━━━━━━━━━━━━━━━━━━━━━━━━━━\u001b[0m \u001b[32m5.0/5.0 MB\u001b[0m \u001b[31m70.5 MB/s\u001b[0m eta \u001b[36m0:00:00\u001b[0m\n",
            "\u001b[?25hDownloading h11-0.14.0-py3-none-any.whl (58 kB)\n",
            "\u001b[2K   \u001b[90m━━━━━━━━━━━━━━━━━━━━━━━━━━━━━━━━━━━━━━━━\u001b[0m \u001b[32m58.3/58.3 kB\u001b[0m \u001b[31m3.2 MB/s\u001b[0m eta \u001b[36m0:00:00\u001b[0m\n",
            "\u001b[?25hBuilding wheels for collected packages: fire\n",
            "  Building wheel for fire (setup.py) ... \u001b[?25l\u001b[?25hdone\n",
            "  Created wheel for fire: filename=fire-0.6.0-py2.py3-none-any.whl size=117030 sha256=bed9b30fd4e441ad80dfe70c813ee54ec19b6c3c0c2799b67e85e1c4d5490099\n",
            "  Stored in directory: /root/.cache/pip/wheels/d6/6d/5d/5b73fa0f46d01a793713f8859201361e9e581ced8c75e5c6a3\n",
            "Successfully built fire\n",
            "Installing collected packages: pyclipper, lmdb, shapely, rapidfuzz, opencv-contrib-python, lxml, h11, fire, cython, astor, python-docx, httpcore, imgaug, httpx, paddlepaddle, paddleocr\n",
            "Successfully installed astor-0.8.1 cython-3.0.11 fire-0.6.0 h11-0.14.0 httpcore-1.0.5 httpx-0.27.2 imgaug-0.4.0 lmdb-1.5.1 lxml-5.3.0 opencv-contrib-python-4.10.0.84 paddleocr-2.8.1 paddlepaddle-2.6.2 pyclipper-1.3.0.post5 python-docx-1.1.2 rapidfuzz-3.9.7 shapely-2.0.6\n",
            "Requirement already satisfied: gdown in /usr/local/lib/python3.10/dist-packages (5.1.0)\n",
            "Requirement already satisfied: beautifulsoup4 in /usr/local/lib/python3.10/dist-packages (from gdown) (4.12.3)\n",
            "Requirement already satisfied: filelock in /usr/local/lib/python3.10/dist-packages (from gdown) (3.16.0)\n",
            "Requirement already satisfied: requests[socks] in /usr/local/lib/python3.10/dist-packages (from gdown) (2.32.3)\n",
            "Requirement already satisfied: tqdm in /usr/local/lib/python3.10/dist-packages (from gdown) (4.66.5)\n",
            "Requirement already satisfied: soupsieve>1.2 in /usr/local/lib/python3.10/dist-packages (from beautifulsoup4->gdown) (2.6)\n",
            "Requirement already satisfied: charset-normalizer<4,>=2 in /usr/local/lib/python3.10/dist-packages (from requests[socks]->gdown) (3.3.2)\n",
            "Requirement already satisfied: idna<4,>=2.5 in /usr/local/lib/python3.10/dist-packages (from requests[socks]->gdown) (3.8)\n",
            "Requirement already satisfied: urllib3<3,>=1.21.1 in /usr/local/lib/python3.10/dist-packages (from requests[socks]->gdown) (2.0.7)\n",
            "Requirement already satisfied: certifi>=2017.4.17 in /usr/local/lib/python3.10/dist-packages (from requests[socks]->gdown) (2024.8.30)\n",
            "Requirement already satisfied: PySocks!=1.5.7,>=1.5.6 in /usr/local/lib/python3.10/dist-packages (from requests[socks]->gdown) (1.7.1)\n"
          ]
        }
      ],
      "source": [
        "!pip install paddlepaddle paddleocr\n",
        "!pip install gdown"
      ]
    },
    {
      "cell_type": "markdown",
      "source": [
        "**1.** **Libraries and Imports**\n",
        "<br/>\n",
        "This section imports various libraries that enable functionality such as downloading images, performing OCR (Optical Character Recognition), manipulating images, working with data in CSV format, and downloading files from Google Drive. These libraries are essential for processing images, extracting relevant text, and handling the results.\n"
      ],
      "metadata": {
        "id": "sP667UyXm44p"
      }
    },
    {
      "cell_type": "code",
      "execution_count": null,
      "metadata": {
        "id": "EKJwdv2wiL16"
      },
      "outputs": [],
      "source": [
        "import pandas as pd\n",
        "import requests\n",
        "from PIL import Image\n",
        "from io import BytesIO\n",
        "import matplotlib.pyplot as plt\n",
        "from paddleocr import PaddleOCR\n",
        "import numpy as np\n",
        "from docx import Document\n",
        "from docx.shared import Inches\n",
        "from PIL import Image\n",
        "import io\n",
        "import gdown\n",
        "import re\n",
        "import os"
      ]
    },
    {
      "cell_type": "markdown",
      "source": [
        "**2. PaddleOCR Initialization**\n",
        "<br/>\n",
        "PaddleOCR is initialized in this section. The model is set to use angle classification and English language recognition. The use_gpu parameter is set to True, allowing the model to leverage GPU acceleration if available, improving the speed of OCR."
      ],
      "metadata": {
        "id": "dqRcxd1_nCQF"
      }
    },
    {
      "cell_type": "code",
      "execution_count": null,
      "metadata": {
        "colab": {
          "base_uri": "https://localhost:8080/"
        },
        "id": "a3WTLiLOiPIQ",
        "outputId": "3eee05f8-e9fe-4574-a5e6-bc406c9ef7c3"
      },
      "outputs": [
        {
          "output_type": "stream",
          "name": "stdout",
          "text": [
            "download https://paddleocr.bj.bcebos.com/PP-OCRv3/english/en_PP-OCRv3_det_infer.tar to /root/.paddleocr/whl/det/en/en_PP-OCRv3_det_infer/en_PP-OCRv3_det_infer.tar\n"
          ]
        },
        {
          "output_type": "stream",
          "name": "stderr",
          "text": [
            "100%|██████████| 4.00M/4.00M [00:16<00:00, 241kiB/s] \n"
          ]
        },
        {
          "output_type": "stream",
          "name": "stdout",
          "text": [
            "download https://paddleocr.bj.bcebos.com/PP-OCRv4/english/en_PP-OCRv4_rec_infer.tar to /root/.paddleocr/whl/rec/en/en_PP-OCRv4_rec_infer/en_PP-OCRv4_rec_infer.tar\n"
          ]
        },
        {
          "output_type": "stream",
          "name": "stderr",
          "text": [
            "100%|██████████| 10.2M/10.2M [00:19<00:00, 528kiB/s] \n"
          ]
        },
        {
          "output_type": "stream",
          "name": "stdout",
          "text": [
            "download https://paddleocr.bj.bcebos.com/dygraph_v2.0/ch/ch_ppocr_mobile_v2.0_cls_infer.tar to /root/.paddleocr/whl/cls/ch_ppocr_mobile_v2.0_cls_infer/ch_ppocr_mobile_v2.0_cls_infer.tar\n"
          ]
        },
        {
          "output_type": "stream",
          "name": "stderr",
          "text": [
            "100%|██████████| 2.19M/2.19M [00:14<00:00, 155kiB/s]"
          ]
        },
        {
          "output_type": "stream",
          "name": "stdout",
          "text": [
            "[2024/09/14 12:11:37] ppocr DEBUG: Namespace(help='==SUPPRESS==', use_gpu=False, use_xpu=False, use_npu=False, use_mlu=False, ir_optim=True, use_tensorrt=False, min_subgraph_size=15, precision='fp32', gpu_mem=500, gpu_id=0, image_dir=None, page_num=0, det_algorithm='DB', det_model_dir='/root/.paddleocr/whl/det/en/en_PP-OCRv3_det_infer', det_limit_side_len=960, det_limit_type='max', det_box_type='quad', det_db_thresh=0.3, det_db_box_thresh=0.6, det_db_unclip_ratio=1.5, max_batch_size=10, use_dilation=False, det_db_score_mode='fast', det_east_score_thresh=0.8, det_east_cover_thresh=0.1, det_east_nms_thresh=0.2, det_sast_score_thresh=0.5, det_sast_nms_thresh=0.2, det_pse_thresh=0, det_pse_box_thresh=0.85, det_pse_min_area=16, det_pse_scale=1, scales=[8, 16, 32], alpha=1.0, beta=1.0, fourier_degree=5, rec_algorithm='SVTR_LCNet', rec_model_dir='/root/.paddleocr/whl/rec/en/en_PP-OCRv4_rec_infer', rec_image_inverse=True, rec_image_shape='3, 48, 320', rec_batch_num=6, max_text_length=25, rec_char_dict_path='/usr/local/lib/python3.10/dist-packages/paddleocr/ppocr/utils/en_dict.txt', use_space_char=True, vis_font_path='./doc/fonts/simfang.ttf', drop_score=0.5, e2e_algorithm='PGNet', e2e_model_dir=None, e2e_limit_side_len=768, e2e_limit_type='max', e2e_pgnet_score_thresh=0.5, e2e_char_dict_path='./ppocr/utils/ic15_dict.txt', e2e_pgnet_valid_set='totaltext', e2e_pgnet_mode='fast', use_angle_cls=True, cls_model_dir='/root/.paddleocr/whl/cls/ch_ppocr_mobile_v2.0_cls_infer', cls_image_shape='3, 48, 192', label_list=['0', '180'], cls_batch_num=6, cls_thresh=0.9, enable_mkldnn=False, cpu_threads=10, use_pdserving=False, warmup=False, sr_model_dir=None, sr_image_shape='3, 32, 128', sr_batch_num=1, draw_img_save_dir='./inference_results', save_crop_res=False, crop_res_save_dir='./output', use_mp=False, total_process_num=1, process_id=0, benchmark=False, save_log_path='./log_output/', show_log=True, use_onnx=False, return_word_box=False, output='./output', table_max_len=488, table_algorithm='TableAttn', table_model_dir=None, merge_no_span_structure=True, table_char_dict_path=None, layout_model_dir=None, layout_dict_path=None, layout_score_threshold=0.5, layout_nms_threshold=0.5, kie_algorithm='LayoutXLM', ser_model_dir=None, re_model_dir=None, use_visual_backbone=True, ser_dict_path='../train_data/XFUND/class_list_xfun.txt', ocr_order_method=None, mode='structure', image_orientation=False, layout=True, table=True, ocr=True, recovery=False, use_pdf2docx_api=False, invert=False, binarize=False, alphacolor=(255, 255, 255), lang='en', det=True, rec=True, type='ocr', savefile=False, ocr_version='PP-OCRv4', structure_version='PP-StructureV2')\n"
          ]
        },
        {
          "output_type": "stream",
          "name": "stderr",
          "text": [
            "\n"
          ]
        }
      ],
      "source": [
        "ocr = PaddleOCR(use_angle_cls=True, lang='en', use_gpu=True)"
      ]
    },
    {
      "cell_type": "code",
      "source": [
        "os.makedirs(\"dataset\")"
      ],
      "metadata": {
        "id": "xI78AUrGDVpd"
      },
      "execution_count": null,
      "outputs": []
    },
    {
      "cell_type": "markdown",
      "source": [
        "**3. Google Drive File Downloading**\n",
        "<br />\n",
        "The script uses the gdown library to download a CSV file from Google Drive. The file contains data, which is later used for prediction. The file is downloaded and saved locally with a specified name.\n",
        "\n"
      ],
      "metadata": {
        "id": "i8rlsQZInIui"
      }
    },
    {
      "cell_type": "code",
      "source": [
        "wattage = '1sOkUYBUozijeObZuM-_zWoFEFabWgvQE'\n",
        "url = f'https://drive.google.com/uc?id={wattage}'\n",
        "output_file = 'downloaded_file.csv'\n",
        "gdown.download(url, output_file, quiet=False)\n",
        "\n",
        "print(f\"File downloaded and saved as {output_file}\")\n"
      ],
      "metadata": {
        "id": "iMKZV5l7C8jP",
        "colab": {
          "base_uri": "https://localhost:8080/"
        },
        "outputId": "2e8b743f-e488-4c03-f75e-ad8d484db8c3"
      },
      "execution_count": null,
      "outputs": [
        {
          "output_type": "stream",
          "name": "stderr",
          "text": [
            "Downloading...\n",
            "From: https://drive.google.com/uc?id=1sOkUYBUozijeObZuM-_zWoFEFabWgvQE\n",
            "To: /content/downloaded_file.csv\n",
            "100%|██████████| 399k/399k [00:00<00:00, 126MB/s]"
          ]
        },
        {
          "output_type": "stream",
          "name": "stdout",
          "text": [
            "File downloaded and saved as downloaded_file.csv\n"
          ]
        },
        {
          "output_type": "stream",
          "name": "stderr",
          "text": [
            "\n"
          ]
        }
      ]
    },
    {
      "cell_type": "markdown",
      "source": [
        "**4. Image Downloading and Text Extraction**\n",
        "<br/>\n",
        "A function is defined to download an image from a URL using the requests library. The image is processed using PaddleOCR to extract text, which is then stored in a list. This extracted text will be processed in later steps to identify weight values and units."
      ],
      "metadata": {
        "id": "6-ID7J5gnP3i"
      }
    },
    {
      "cell_type": "code",
      "execution_count": null,
      "metadata": {
        "id": "i8b5nTrIz6IO"
      },
      "outputs": [],
      "source": [
        "def download_image(url):\n",
        "    response = requests.get(url)\n",
        "    image = Image.open(BytesIO(response.content))\n",
        "    return image"
      ]
    },
    {
      "cell_type": "markdown",
      "source": [
        "**5. Text Extraction Using PaddleOCR**\n",
        "<br/>\n",
        "In the get_text() function, PaddleOCR is used to extract text from the downloaded image. The recognized text is stored in a list, which will be processed to identify wattage values."
      ],
      "metadata": {
        "id": "bhchfAHBo0T1"
      }
    },
    {
      "cell_type": "code",
      "execution_count": null,
      "metadata": {
        "id": "8hfOKHbd3jwV"
      },
      "outputs": [],
      "source": [
        "def get_text(url):\n",
        "    res = []\n",
        "    image = download_image(url)\n",
        "    image_np = np.array(image)\n",
        "    result = ocr.ocr(image_np, cls=True)\n",
        "    # print(result)\n",
        "    try:\n",
        "        for i in result:\n",
        "            for j in i:\n",
        "                for k in j:\n",
        "                    if isinstance(k[0], str):\n",
        "                        res.append(k[0])\n",
        "    except Exception as e:\n",
        "        print(f\"An error occurred: {e}\")\n",
        "    print(res)\n",
        "    return res"
      ]
    },
    {
      "cell_type": "markdown",
      "source": [
        "**6. Mapping Wattage Units**\n",
        "<br/>\n",
        "The map_to_standard_unit() function normalizes various representations of wattage units. For example, it converts variations like \"W\", \"watt\", and \"kw\" to a consistent format such as \"watt\" or \"kilowatt\". This ensures uniformity when extracting and analyzing wattage values from the text.\n",
        "\n",
        "**7. Regular Expression for Wattage Detection**\n",
        "<br/>\n",
        "In find_value(), a regular expression is used to search for wattage values in the text extracted by the OCR model. It identifies numeric values followed by wattage units (e.g., \"W\", \"KW\", \"watts\", etc.) and returns them in a standardized format."
      ],
      "metadata": {
        "id": "yy1vWNMPo4wO"
      }
    },
    {
      "cell_type": "code",
      "execution_count": null,
      "metadata": {
        "id": "Oa2osGr1h8WV"
      },
      "outputs": [],
      "source": [
        "def map_to_standard_unit(unit):\n",
        "    conversion_map = {\n",
        "        \"w\": \"watt\",\n",
        "        \"watt\": \"watt\",\n",
        "        \"watts\": \"watt\",\n",
        "        \"kw\": \"kilowatt\",\n",
        "        \"kilowatt\": \"kilowatt\",\n",
        "        \"kilowatts\": \"kilowatt\",\n",
        "        \"KW\": \"kilowatt\",\n",
        "        \"kW\": \"kilowatt\"\n",
        "    }\n",
        "    return conversion_map.get(unit.lower().strip(':/.-\\\\'), unit)\n",
        "def find_value(text_list):\n",
        "    text = ' '.join(text_list).lower()\n",
        "    pattern = r'(\\d+(\\.\\d+)?)\\s*[\\/:\\\\.\\-]?\\s*([wW]atts?|[wW]\\s*(:|-|\\.|)?\\s*(?:watts?)?|[kK][wW]|[Kk]ilowatt|[Kk]ilo[Ww]att)\\s*[\\/:\\\\.\\-]?\\b'\n",
        "    matches = re.findall(pattern, text, re.IGNORECASE)\n",
        "    return [match[0] + ' ' + map_to_standard_unit(match[2]).strip() for match in matches]"
      ]
    },
    {
      "cell_type": "markdown",
      "source": [
        "**8. Prediction Logic**\n",
        "<br/>\n",
        "The predictor() function processes each image URL, applying the OCR model to extract text. It then filters this text using the regular expression to find wattage values. The function returns the first identified value or \" \" (blank) if no values are found.\n",
        "\n",
        "**9. Main Program Execution**\n",
        "<br/>\n",
        "In the main execution block: The downloaded CSV file is loaded, and each image URL is processed.\n",
        "For each row, the image URL is passed to the predictor function, which returns the extracted wattage value.\n",
        "The predictions are added to a new column named \"prediction\".\n",
        "<br/>\n",
        "**10. Saving the Results**\n",
        "<br/>\n",
        "The final section saves the processed data (including predictions) to a new CSV file in the dataset folder. This output file contains the indices and predicted wattage values, ready for further analysis."
      ],
      "metadata": {
        "id": "LOh2ipPGpCI2"
      }
    },
    {
      "cell_type": "code",
      "execution_count": null,
      "metadata": {
        "id": "oinQk1OhjEYK",
        "colab": {
          "base_uri": "https://localhost:8080/",
          "height": 1000
        },
        "outputId": "831d2074-73d1-40b1-b8b1-306853eb536a"
      },
      "outputs": [
        {
          "output_type": "stream",
          "name": "stdout",
          "text": [
            "1\n",
            "[2024/09/14 14:08:26] ppocr DEBUG: dt_boxes num : 15, elapsed : 0.0903472900390625\n",
            "[2024/09/14 14:08:26] ppocr DEBUG: cls num  : 15, elapsed : 0.06877374649047852\n",
            "[2024/09/14 14:08:26] ppocr DEBUG: rec_res num  : 15, elapsed : 0.5752229690551758\n",
            "['Black', 'Red', 'Green', '208-240V', '.', '.', '16A', '60Hz', 'L1', 'L2', 'GND', 'Black', 'White', 'Green']\n",
            "no\n",
            "2\n",
            "[2024/09/14 14:08:27] ppocr DEBUG: dt_boxes num : 7, elapsed : 0.09526658058166504\n",
            "[2024/09/14 14:08:27] ppocr DEBUG: cls num  : 7, elapsed : 0.05891728401184082\n",
            "[2024/09/14 14:08:27] ppocr DEBUG: rec_res num  : 7, elapsed : 0.31642985343933105\n",
            "['LAES', '640', '8W']\n",
            "8 watt\n",
            "3\n",
            "[2024/09/14 14:08:27] ppocr DEBUG: dt_boxes num : 3, elapsed : 0.11672043800354004\n",
            "[2024/09/14 14:08:27] ppocr DEBUG: cls num  : 3, elapsed : 0.017259597778320312\n",
            "[2024/09/14 14:08:27] ppocr DEBUG: rec_res num  : 3, elapsed : 0.12553644180297852\n",
            "['200mm/8\"', '1SOH']\n",
            "no\n",
            "4\n",
            "[2024/09/14 14:08:27] ppocr DEBUG: dt_boxes num : 4, elapsed : 0.17797398567199707\n",
            "[2024/09/14 14:08:27] ppocr DEBUG: cls num  : 4, elapsed : 0.04218792915344238\n",
            "[2024/09/14 14:08:28] ppocr DEBUG: rec_res num  : 4, elapsed : 0.21513938903808594\n",
            "['14-inch MacBook Pro', 'USB-C to MagSafe 3', 'USB-C Power Adapter', 'Cable (2 m)']\n",
            "no\n",
            "5\n",
            "[2024/09/14 14:08:28] ppocr DEBUG: dt_boxes num : 5, elapsed : 0.09620881080627441\n",
            "[2024/09/14 14:08:28] ppocr DEBUG: cls num  : 5, elapsed : 0.046419382095336914\n",
            "[2024/09/14 14:08:28] ppocr DEBUG: rec_res num  : 5, elapsed : 0.31216931343078613\n",
            "['230mm', 'Capacity: 1.4L', '280mm', 'Power: 1500w', '160mm']\n",
            "1500 w\n",
            "6\n",
            "[2024/09/14 14:08:28] ppocr DEBUG: dt_boxes num : 12, elapsed : 0.09661674499511719\n",
            "[2024/09/14 14:08:28] ppocr DEBUG: cls num  : 12, elapsed : 0.05908012390136719\n",
            "[2024/09/14 14:08:30] ppocr DEBUG: rec_res num  : 12, elapsed : 1.201568603515625\n",
            "['The Higher the CFM, the greater the air movement', 'CFM', 'LessAir', '50', '60', '80', '90', '100', '110', '130', 'More Air']\n",
            "no\n",
            "7\n",
            "[2024/09/14 14:08:30] ppocr DEBUG: dt_boxes num : 8, elapsed : 0.1380476951599121\n",
            "[2024/09/14 14:08:30] ppocr DEBUG: cls num  : 8, elapsed : 0.05073285102844238\n",
            "[2024/09/14 14:08:31] ppocr DEBUG: rec_res num  : 8, elapsed : 0.7192063331604004\n",
            "['XLR to 1/4\"TRs Connector wired for balanced mono)', 'Left', '3-pin XLR', 'Right', 'Common', 'Pin I-Shield to Sleeve Common', 'Pin2-Left to Tip Left', 'Pin 3-Right to Ring Right']\n",
            "no\n",
            "8\n",
            "[2024/09/14 14:08:31] ppocr DEBUG: dt_boxes num : 4, elapsed : 0.08234262466430664\n",
            "[2024/09/14 14:08:31] ppocr DEBUG: cls num  : 4, elapsed : 0.04159259796142578\n",
            "[2024/09/14 14:08:31] ppocr DEBUG: rec_res num  : 4, elapsed : 0.2980673313140869\n",
            "['SMART SERIESPOWER SUPPLY', 'SMARTBX1650W', '5']\n",
            "1650 w\n",
            "9\n",
            "[2024/09/14 14:08:31] ppocr DEBUG: dt_boxes num : 4, elapsed : 0.09454798698425293\n",
            "[2024/09/14 14:08:31] ppocr DEBUG: cls num  : 4, elapsed : 0.017214536666870117\n",
            "[2024/09/14 14:08:31] ppocr DEBUG: rec_res num  : 4, elapsed : 0.24738621711730957\n",
            "['ZIPPY TECHNOLOGY', 'Server Grade Powe', 'P2H-5500V', '2U 500wPower Supply Uni']\n",
            "no\n",
            "10\n",
            "[2024/09/14 14:08:32] ppocr DEBUG: dt_boxes num : 2, elapsed : 0.08280611038208008\n",
            "[2024/09/14 14:08:32] ppocr DEBUG: cls num  : 2, elapsed : 0.013955354690551758\n",
            "[2024/09/14 14:08:32] ppocr DEBUG: rec_res num  : 2, elapsed : 0.12446403503417969\n",
            "['233mm/9.2in', '152mm/6.0in']\n",
            "no\n",
            "11\n",
            "[2024/09/14 14:08:32] ppocr DEBUG: dt_boxes num : 3, elapsed : 0.0864114761352539\n",
            "[2024/09/14 14:08:32] ppocr DEBUG: cls num  : 3, elapsed : 0.03962206840515137\n",
            "[2024/09/14 14:08:32] ppocr DEBUG: rec_res num  : 3, elapsed : 0.15755820274353027\n",
            "['180', 'M', 'BLACK+DECKER']\n",
            "no\n",
            "12\n",
            "[2024/09/14 14:08:32] ppocr DEBUG: dt_boxes num : 11, elapsed : 0.0871429443359375\n",
            "[2024/09/14 14:08:32] ppocr DEBUG: cls num  : 11, elapsed : 0.0761570930480957\n",
            "[2024/09/14 14:08:33] ppocr DEBUG: rec_res num  : 11, elapsed : 0.667881965637207\n",
            "['OIL-FREE FRYING!', 'With rapid air frying technology, you', 'frying experience with little to no oil', 'can enjoy a faster and healthier', '12HOUR TIMER', '13', 'PUNRCESIONS', 'DISHWASHER', '1700W']\n",
            "1700 watt\n",
            "13\n",
            "[2024/09/14 14:08:33] ppocr DEBUG: dt_boxes num : 4, elapsed : 0.08069968223571777\n",
            "[2024/09/14 14:08:33] ppocr DEBUG: cls num  : 4, elapsed : 0.015966415405273438\n",
            "[2024/09/14 14:08:33] ppocr DEBUG: rec_res num  : 4, elapsed : 0.18429350852966309\n",
            "['REBAR TYING MACHINE', '12V']\n",
            "no\n",
            "14\n",
            "[2024/09/14 14:08:33] ppocr DEBUG: dt_boxes num : 4, elapsed : 0.09801411628723145\n",
            "[2024/09/14 14:08:33] ppocr DEBUG: cls num  : 4, elapsed : 0.01708674430847168\n",
            "[2024/09/14 14:08:34] ppocr DEBUG: rec_res num  : 4, elapsed : 0.1948845386505127\n",
            "['Eeeee', '00h']\n",
            "no\n",
            "15\n",
            "[2024/09/14 14:08:34] ppocr DEBUG: dt_boxes num : 6, elapsed : 0.11708283424377441\n",
            "[2024/09/14 14:08:34] ppocr DEBUG: cls num  : 6, elapsed : 0.020600080490112305\n",
            "[2024/09/14 14:08:34] ppocr DEBUG: rec_res num  : 6, elapsed : 0.20356535911560059\n",
            "[\"O'SUNON\", 'PF4028181-0000-599', '6.72W', '31900212']\n",
            "6.72 w\n",
            "16\n",
            "[2024/09/14 14:08:34] ppocr DEBUG: dt_boxes num : 4, elapsed : 0.08133697509765625\n",
            "[2024/09/14 14:08:34] ppocr DEBUG: cls num  : 4, elapsed : 0.01751422882080078\n",
            "[2024/09/14 14:08:34] ppocr DEBUG: rec_res num  : 4, elapsed : 0.19784927368164062\n",
            "['Fits most', '6 in.', 'reciprocating', 'blades']\n",
            "no\n",
            "17\n",
            "[2024/09/14 14:08:35] ppocr DEBUG: dt_boxes num : 1, elapsed : 0.09812068939208984\n",
            "[2024/09/14 14:08:35] ppocr DEBUG: cls num  : 1, elapsed : 0.033753156661987305\n",
            "[2024/09/14 14:08:35] ppocr DEBUG: rec_res num  : 1, elapsed : 0.10106563568115234\n",
            "['2ZAAAAM']\n",
            "no\n",
            "18\n",
            "[2024/09/14 14:08:35] ppocr DEBUG: dt_boxes num : 4, elapsed : 0.08990240097045898\n",
            "[2024/09/14 14:08:35] ppocr DEBUG: cls num  : 4, elapsed : 0.019961118698120117\n",
            "[2024/09/14 14:08:35] ppocr DEBUG: rec_res num  : 4, elapsed : 0.2438359260559082\n",
            "['180', 'M', 'BLACK+DECKER']\n",
            "no\n",
            "19\n",
            "[2024/09/14 14:08:35] ppocr DEBUG: dt_boxes num : 4, elapsed : 0.09961962699890137\n",
            "[2024/09/14 14:08:35] ppocr DEBUG: cls num  : 4, elapsed : 0.016914844512939453\n",
            "[2024/09/14 14:08:35] ppocr DEBUG: rec_res num  : 4, elapsed : 0.19350504875183105\n",
            "['<45db', '120w']\n",
            "120 watt\n",
            "20\n",
            "[2024/09/14 14:08:36] ppocr DEBUG: dt_boxes num : 0, elapsed : 0.08153486251831055\n",
            "[2024/09/14 14:08:36] ppocr DEBUG: cls num  : 0, elapsed : 0\n",
            "[2024/09/14 14:08:36] ppocr DEBUG: rec_res num  : 0, elapsed : 1.1920928955078125e-06\n",
            "An error occurred: 'NoneType' object is not iterable\n",
            "[]\n",
            "no\n",
            "21\n",
            "[2024/09/14 14:08:36] ppocr DEBUG: dt_boxes num : 3, elapsed : 0.07646632194519043\n",
            "[2024/09/14 14:08:36] ppocr DEBUG: cls num  : 3, elapsed : 0.03606462478637695\n",
            "[2024/09/14 14:08:36] ppocr DEBUG: rec_res num  : 3, elapsed : 0.15740680694580078\n",
            "['25cm/9.84in', '12v', '13.7cm/5.39 in']\n",
            "no\n",
            "22\n",
            "[2024/09/14 14:08:36] ppocr DEBUG: dt_boxes num : 1, elapsed : 0.08622264862060547\n",
            "[2024/09/14 14:08:36] ppocr DEBUG: cls num  : 1, elapsed : 0.013988018035888672\n",
            "[2024/09/14 14:08:36] ppocr DEBUG: rec_res num  : 1, elapsed : 0.06021761894226074\n",
            "An error occurred: 'NoneType' object is not iterable\n",
            "[]\n",
            "no\n",
            "23\n",
            "[2024/09/14 14:08:36] ppocr DEBUG: dt_boxes num : 0, elapsed : 0.14913535118103027\n",
            "[2024/09/14 14:08:36] ppocr DEBUG: cls num  : 0, elapsed : 0\n",
            "[2024/09/14 14:08:36] ppocr DEBUG: rec_res num  : 0, elapsed : 1.6689300537109375e-06\n",
            "An error occurred: 'NoneType' object is not iterable\n",
            "[]\n",
            "no\n",
            "24\n",
            "[2024/09/14 14:08:36] ppocr DEBUG: dt_boxes num : 6, elapsed : 0.08954715728759766\n",
            "[2024/09/14 14:08:36] ppocr DEBUG: cls num  : 6, elapsed : 0.04541420936584473\n",
            "[2024/09/14 14:08:37] ppocr DEBUG: rec_res num  : 6, elapsed : 0.2527012825012207\n",
            "['5kg', '32cm', '12-00', '31cm', '30,5cm']\n",
            "no\n",
            "25\n",
            "[2024/09/14 14:08:37] ppocr DEBUG: dt_boxes num : 1, elapsed : 0.11836433410644531\n",
            "[2024/09/14 14:08:37] ppocr DEBUG: cls num  : 1, elapsed : 0.012209177017211914\n",
            "[2024/09/14 14:08:37] ppocr DEBUG: rec_res num  : 1, elapsed : 0.05496525764465332\n",
            "['505 Vivol']\n",
            "no\n",
            "26\n",
            "[2024/09/14 14:08:37] ppocr DEBUG: dt_boxes num : 1, elapsed : 0.08207201957702637\n",
            "[2024/09/14 14:08:37] ppocr DEBUG: cls num  : 1, elapsed : 0.013702392578125\n",
            "[2024/09/14 14:08:37] ppocr DEBUG: rec_res num  : 1, elapsed : 0.06805896759033203\n",
            "['220V']\n",
            "no\n",
            "27\n",
            "[2024/09/14 14:08:37] ppocr DEBUG: dt_boxes num : 3, elapsed : 0.08704161643981934\n",
            "[2024/09/14 14:08:37] ppocr DEBUG: cls num  : 3, elapsed : 0.015554189682006836\n",
            "[2024/09/14 14:08:37] ppocr DEBUG: rec_res num  : 3, elapsed : 0.1171562671661377\n",
            "['FAST', 'OFF', 'SLOW']\n",
            "no\n",
            "28\n",
            "[2024/09/14 14:08:38] ppocr DEBUG: dt_boxes num : 0, elapsed : 0.07896232604980469\n",
            "[2024/09/14 14:08:38] ppocr DEBUG: cls num  : 0, elapsed : 0\n",
            "[2024/09/14 14:08:38] ppocr DEBUG: rec_res num  : 0, elapsed : 2.384185791015625e-06\n",
            "An error occurred: 'NoneType' object is not iterable\n",
            "[]\n",
            "no\n",
            "29\n",
            "[2024/09/14 14:08:38] ppocr DEBUG: dt_boxes num : 11, elapsed : 0.09083080291748047\n",
            "[2024/09/14 14:08:38] ppocr DEBUG: cls num  : 11, elapsed : 0.05837655067443848\n",
            "[2024/09/14 14:08:39] ppocr DEBUG: rec_res num  : 11, elapsed : 0.824533224105835\n",
            "['52VerandaEnergy Ratings at High Speed', 'Airflow', 'Electricity Use', 'Airflow Efficiency', 'Cubic Ft Per Min.', 'WattsExcl.Lights)', 'Cubic Ft Per Min.PerWatt', '5967', '73', ': 82']\n",
            "no\n",
            "30\n",
            "[2024/09/14 14:08:39] ppocr DEBUG: dt_boxes num : 2, elapsed : 0.15482783317565918\n",
            "[2024/09/14 14:08:39] ppocr DEBUG: cls num  : 2, elapsed : 0.0403294563293457\n",
            "[2024/09/14 14:08:39] ppocr DEBUG: rec_res num  : 2, elapsed : 0.3065958023071289\n",
            "['MINI MAKER WAFFLE', 'Cookng SurfaceNon-Stick|350 W']\n",
            "350 watt\n",
            "31\n",
            "[2024/09/14 14:08:39] ppocr DEBUG: dt_boxes num : 3, elapsed : 0.12302398681640625\n",
            "[2024/09/14 14:08:39] ppocr DEBUG: cls num  : 3, elapsed : 0.039121389389038086\n",
            "[2024/09/14 14:08:40] ppocr DEBUG: rec_res num  : 3, elapsed : 0.17236995697021484\n",
            "['25.2 ']\n",
            "no\n",
            "32\n",
            "[2024/09/14 14:08:40] ppocr DEBUG: dt_boxes num : 20, elapsed : 0.16521191596984863\n",
            "[2024/09/14 14:08:40] ppocr DEBUG: cls num  : 20, elapsed : 0.06056094169616699\n",
            "[2024/09/14 14:08:41] ppocr DEBUG: rec_res num  : 20, elapsed : 0.843254804611206\n",
            "['Commodity Parameters', 'NET WEIGHT', '0.54KG', 'SIZE', '7.5X7.5X20.3CM', 'INDICATOR', 'LED', 'H:20.3cm', 'WATER TANK', '180ml', 'CUP CAPACITY', '260ml', 'VOLTAGE', '12V/7A', 'POWER', '80W', 'CAPSULE', 'K capsule', 'w:7.5cm']\n",
            "80 w\n",
            "33\n",
            "[2024/09/14 14:08:41] ppocr DEBUG: dt_boxes num : 1, elapsed : 0.17885875701904297\n",
            "[2024/09/14 14:08:41] ppocr DEBUG: cls num  : 1, elapsed : 0.03638958930969238\n",
            "[2024/09/14 14:08:41] ppocr DEBUG: rec_res num  : 1, elapsed : 0.11922192573547363\n",
            "['1200ml large capacity']\n",
            "no\n",
            "34\n",
            "[2024/09/14 14:08:41] ppocr DEBUG: dt_boxes num : 10, elapsed : 0.08737325668334961\n",
            "[2024/09/14 14:08:41] ppocr DEBUG: cls num  : 10, elapsed : 0.056774139404296875\n",
            "[2024/09/14 14:08:42] ppocr DEBUG: rec_res num  : 10, elapsed : 0.6687939167022705\n",
            "['DIMENSIONS', 'DANA', 'TABLELAMP', '21881', 'Translucent porcelain base', 'complete with carving', '7.87in', 'E12,1Max 25W', 'Bulb not included', '3.54in']\n",
            "25 w\n",
            "35\n",
            "[2024/09/14 14:08:42] ppocr DEBUG: dt_boxes num : 15, elapsed : 0.08222055435180664\n",
            "[2024/09/14 14:08:42] ppocr DEBUG: cls num  : 15, elapsed : 0.06403684616088867\n",
            "[2024/09/14 14:08:43] ppocr DEBUG: rec_res num  : 15, elapsed : 0.5630753040313721\n",
            "['28CM', '18CM', '15.2CM', 'PRODUCT', 'Electric kettle', 'CAPACITY', '800ml', 'POWER', '1000w', 'VOLTAGE', '110v-50hz', 'MATERIAL', '304 stainless steel', 'POWER CORD', '75cm']\n",
            "1000 w\n",
            "36\n",
            "[2024/09/14 14:08:43] ppocr DEBUG: dt_boxes num : 4, elapsed : 0.08659648895263672\n",
            "[2024/09/14 14:08:43] ppocr DEBUG: cls num  : 4, elapsed : 0.016114234924316406\n",
            "[2024/09/14 14:08:43] ppocr DEBUG: rec_res num  : 4, elapsed : 0.28461480140686035\n",
            "['LED', '40W', '110 Voltage 2700K/4000K/6000K']\n",
            "40 w\n",
            "37\n",
            "[2024/09/14 14:08:43] ppocr DEBUG: dt_boxes num : 5, elapsed : 0.14992284774780273\n",
            "[2024/09/14 14:08:43] ppocr DEBUG: cls num  : 5, elapsed : 0.03721952438354492\n",
            "[2024/09/14 14:08:44] ppocr DEBUG: rec_res num  : 5, elapsed : 0.21209049224853516\n",
            "['D0']\n",
            "no\n",
            "38\n",
            "[2024/09/14 14:08:44] ppocr DEBUG: dt_boxes num : 4, elapsed : 0.13483667373657227\n",
            "[2024/09/14 14:08:44] ppocr DEBUG: cls num  : 4, elapsed : 0.016915082931518555\n",
            "[2024/09/14 14:08:44] ppocr DEBUG: rec_res num  : 4, elapsed : 0.1800684928894043\n",
            "['12GBRAM', '512GBSSD', '888', '889']\n",
            "no\n",
            "39\n",
            "[2024/09/14 14:08:44] ppocr DEBUG: dt_boxes num : 2, elapsed : 0.07557511329650879\n",
            "[2024/09/14 14:08:44] ppocr DEBUG: cls num  : 2, elapsed : 0.034139156341552734\n",
            "[2024/09/14 14:08:44] ppocr DEBUG: rec_res num  : 2, elapsed : 0.12414097785949707\n",
            "['25.2V', 'LithiumPower']\n",
            "no\n",
            "40\n",
            "[2024/09/14 14:08:44] ppocr DEBUG: dt_boxes num : 2, elapsed : 0.11452817916870117\n",
            "[2024/09/14 14:08:44] ppocr DEBUG: cls num  : 2, elapsed : 0.013169050216674805\n",
            "[2024/09/14 14:08:45] ppocr DEBUG: rec_res num  : 2, elapsed : 0.21815943717956543\n",
            "['Two Speed Control', '400w 100% Pure CopperMotor']\n",
            "400 w\n",
            "41\n",
            "[2024/09/14 14:08:45] ppocr DEBUG: dt_boxes num : 6, elapsed : 0.16731858253479004\n",
            "[2024/09/14 14:08:45] ppocr DEBUG: cls num  : 6, elapsed : 0.03929781913757324\n",
            "[2024/09/14 14:08:46] ppocr DEBUG: rec_res num  : 6, elapsed : 0.7236289978027344\n",
            "['Product name: Electric pressure cooker', 'brand:ZOKOP', 'The rated voltage:110V', 'Rated power: 1000w', 'weight:5.5KG', 'capacity:6QT']\n",
            "1000 w\n",
            "42\n",
            "[2024/09/14 14:08:46] ppocr DEBUG: dt_boxes num : 21, elapsed : 0.07759356498718262\n",
            "[2024/09/14 14:08:46] ppocr DEBUG: cls num  : 21, elapsed : 0.07377433776855469\n",
            "[2024/09/14 14:08:47] ppocr DEBUG: rec_res num  : 21, elapsed : 1.025170087814331\n",
            "['ENERGYGUIDE', 'Estimated', 'Airflow', 'Yearly Energy Cost', '4,353', '$14', 'Cubic Feet Per Minute', '  The higher the airfiow, the', '$3', '$34', ' Airfow Eficiency. 85 Cubic', 'more air the fan will move', 'Cost Range of Similar Models (19  83)', 'Feet Per Minute Per Watt', ' Based on 12 cents per kWh and 6.4 hours use per day', ' Your cost depends on rates and use', ' Energy Use: 51 Wats', 'All estimates based on typical use, excluding lights', 'ftc.gov/energy']\n",
            "no\n",
            "43\n",
            "[2024/09/14 14:08:47] ppocr DEBUG: dt_boxes num : 17, elapsed : 0.0631721019744873\n",
            "[2024/09/14 14:08:47] ppocr DEBUG: cls num  : 17, elapsed : 0.06833672523498535\n",
            "[2024/09/14 14:08:48] ppocr DEBUG: rec_res num  : 17, elapsed : 0.7295641899108887\n",
            "['74.5W', \"What's in the box:\", 'Power Cable', 'User Manual', 'One Remote TM2180E', 'with batteries', '42.6* H', \"84.5'\", '45.2*H', '1.1D', '14.4D', '16.9*W', 'Dimensions:', '(INCHES W x H x D):', ' TV Without Stand: 74.5 x 42.6 x1.1', ' TVWith Stand: 74.5 x45.2 x14.4', ' Stand Footprint:16.9 x10.6 x14.4']\n",
            "74.5 w\n",
            "44\n"
          ]
        },
        {
          "output_type": "error",
          "ename": "KeyboardInterrupt",
          "evalue": "",
          "traceback": [
            "\u001b[0;31m---------------------------------------------------------------------------\u001b[0m",
            "\u001b[0;31mKeyboardInterrupt\u001b[0m                         Traceback (most recent call last)",
            "\u001b[0;32m<ipython-input-10-bb4e24e9e617>\u001b[0m in \u001b[0;36m<cell line: 20>\u001b[0;34m()\u001b[0m\n\u001b[1;32m     23\u001b[0m     \u001b[0mtest\u001b[0m \u001b[0;34m=\u001b[0m \u001b[0mpd\u001b[0m\u001b[0;34m.\u001b[0m\u001b[0mread_csv\u001b[0m\u001b[0;34m(\u001b[0m\u001b[0;34m'downloaded_file.csv'\u001b[0m\u001b[0;34m)\u001b[0m\u001b[0;34m\u001b[0m\u001b[0;34m\u001b[0m\u001b[0m\n\u001b[1;32m     24\u001b[0m \u001b[0;34m\u001b[0m\u001b[0m\n\u001b[0;32m---> 25\u001b[0;31m     test['prediction'] = test.apply(\n\u001b[0m\u001b[1;32m     26\u001b[0m         lambda row: predictor(row['image_link'], row['group_id'], row['entity_name']), axis=1)\n\u001b[1;32m     27\u001b[0m \u001b[0;34m\u001b[0m\u001b[0m\n",
            "\u001b[0;32m/usr/local/lib/python3.10/dist-packages/pandas/core/frame.py\u001b[0m in \u001b[0;36mapply\u001b[0;34m(self, func, axis, raw, result_type, args, by_row, **kwargs)\u001b[0m\n\u001b[1;32m  10032\u001b[0m             \u001b[0mkwargs\u001b[0m\u001b[0;34m=\u001b[0m\u001b[0mkwargs\u001b[0m\u001b[0;34m,\u001b[0m\u001b[0;34m\u001b[0m\u001b[0;34m\u001b[0m\u001b[0m\n\u001b[1;32m  10033\u001b[0m         )\n\u001b[0;32m> 10034\u001b[0;31m         \u001b[0;32mreturn\u001b[0m \u001b[0mop\u001b[0m\u001b[0;34m.\u001b[0m\u001b[0mapply\u001b[0m\u001b[0;34m(\u001b[0m\u001b[0;34m)\u001b[0m\u001b[0;34m.\u001b[0m\u001b[0m__finalize__\u001b[0m\u001b[0;34m(\u001b[0m\u001b[0mself\u001b[0m\u001b[0;34m,\u001b[0m \u001b[0mmethod\u001b[0m\u001b[0;34m=\u001b[0m\u001b[0;34m\"apply\"\u001b[0m\u001b[0;34m)\u001b[0m\u001b[0;34m\u001b[0m\u001b[0;34m\u001b[0m\u001b[0m\n\u001b[0m\u001b[1;32m  10035\u001b[0m \u001b[0;34m\u001b[0m\u001b[0m\n\u001b[1;32m  10036\u001b[0m     def map(\n",
            "\u001b[0;32m/usr/local/lib/python3.10/dist-packages/pandas/core/apply.py\u001b[0m in \u001b[0;36mapply\u001b[0;34m(self)\u001b[0m\n\u001b[1;32m    835\u001b[0m             \u001b[0;32mreturn\u001b[0m \u001b[0mself\u001b[0m\u001b[0;34m.\u001b[0m\u001b[0mapply_raw\u001b[0m\u001b[0;34m(\u001b[0m\u001b[0;34m)\u001b[0m\u001b[0;34m\u001b[0m\u001b[0;34m\u001b[0m\u001b[0m\n\u001b[1;32m    836\u001b[0m \u001b[0;34m\u001b[0m\u001b[0m\n\u001b[0;32m--> 837\u001b[0;31m         \u001b[0;32mreturn\u001b[0m \u001b[0mself\u001b[0m\u001b[0;34m.\u001b[0m\u001b[0mapply_standard\u001b[0m\u001b[0;34m(\u001b[0m\u001b[0;34m)\u001b[0m\u001b[0;34m\u001b[0m\u001b[0;34m\u001b[0m\u001b[0m\n\u001b[0m\u001b[1;32m    838\u001b[0m \u001b[0;34m\u001b[0m\u001b[0m\n\u001b[1;32m    839\u001b[0m     \u001b[0;32mdef\u001b[0m \u001b[0magg\u001b[0m\u001b[0;34m(\u001b[0m\u001b[0mself\u001b[0m\u001b[0;34m)\u001b[0m\u001b[0;34m:\u001b[0m\u001b[0;34m\u001b[0m\u001b[0;34m\u001b[0m\u001b[0m\n",
            "\u001b[0;32m/usr/local/lib/python3.10/dist-packages/pandas/core/apply.py\u001b[0m in \u001b[0;36mapply_standard\u001b[0;34m(self)\u001b[0m\n\u001b[1;32m    963\u001b[0m \u001b[0;34m\u001b[0m\u001b[0m\n\u001b[1;32m    964\u001b[0m     \u001b[0;32mdef\u001b[0m \u001b[0mapply_standard\u001b[0m\u001b[0;34m(\u001b[0m\u001b[0mself\u001b[0m\u001b[0;34m)\u001b[0m\u001b[0;34m:\u001b[0m\u001b[0;34m\u001b[0m\u001b[0;34m\u001b[0m\u001b[0m\n\u001b[0;32m--> 965\u001b[0;31m         \u001b[0mresults\u001b[0m\u001b[0;34m,\u001b[0m \u001b[0mres_index\u001b[0m \u001b[0;34m=\u001b[0m \u001b[0mself\u001b[0m\u001b[0;34m.\u001b[0m\u001b[0mapply_series_generator\u001b[0m\u001b[0;34m(\u001b[0m\u001b[0;34m)\u001b[0m\u001b[0;34m\u001b[0m\u001b[0;34m\u001b[0m\u001b[0m\n\u001b[0m\u001b[1;32m    966\u001b[0m \u001b[0;34m\u001b[0m\u001b[0m\n\u001b[1;32m    967\u001b[0m         \u001b[0;31m# wrap results\u001b[0m\u001b[0;34m\u001b[0m\u001b[0;34m\u001b[0m\u001b[0m\n",
            "\u001b[0;32m/usr/local/lib/python3.10/dist-packages/pandas/core/apply.py\u001b[0m in \u001b[0;36mapply_series_generator\u001b[0;34m(self)\u001b[0m\n\u001b[1;32m    979\u001b[0m             \u001b[0;32mfor\u001b[0m \u001b[0mi\u001b[0m\u001b[0;34m,\u001b[0m \u001b[0mv\u001b[0m \u001b[0;32min\u001b[0m \u001b[0menumerate\u001b[0m\u001b[0;34m(\u001b[0m\u001b[0mseries_gen\u001b[0m\u001b[0;34m)\u001b[0m\u001b[0;34m:\u001b[0m\u001b[0;34m\u001b[0m\u001b[0;34m\u001b[0m\u001b[0m\n\u001b[1;32m    980\u001b[0m                 \u001b[0;31m# ignore SettingWithCopy here in case the user mutates\u001b[0m\u001b[0;34m\u001b[0m\u001b[0;34m\u001b[0m\u001b[0m\n\u001b[0;32m--> 981\u001b[0;31m                 \u001b[0mresults\u001b[0m\u001b[0;34m[\u001b[0m\u001b[0mi\u001b[0m\u001b[0;34m]\u001b[0m \u001b[0;34m=\u001b[0m \u001b[0mself\u001b[0m\u001b[0;34m.\u001b[0m\u001b[0mfunc\u001b[0m\u001b[0;34m(\u001b[0m\u001b[0mv\u001b[0m\u001b[0;34m,\u001b[0m \u001b[0;34m*\u001b[0m\u001b[0mself\u001b[0m\u001b[0;34m.\u001b[0m\u001b[0margs\u001b[0m\u001b[0;34m,\u001b[0m \u001b[0;34m**\u001b[0m\u001b[0mself\u001b[0m\u001b[0;34m.\u001b[0m\u001b[0mkwargs\u001b[0m\u001b[0;34m)\u001b[0m\u001b[0;34m\u001b[0m\u001b[0;34m\u001b[0m\u001b[0m\n\u001b[0m\u001b[1;32m    982\u001b[0m                 \u001b[0;32mif\u001b[0m \u001b[0misinstance\u001b[0m\u001b[0;34m(\u001b[0m\u001b[0mresults\u001b[0m\u001b[0;34m[\u001b[0m\u001b[0mi\u001b[0m\u001b[0;34m]\u001b[0m\u001b[0;34m,\u001b[0m \u001b[0mABCSeries\u001b[0m\u001b[0;34m)\u001b[0m\u001b[0;34m:\u001b[0m\u001b[0;34m\u001b[0m\u001b[0;34m\u001b[0m\u001b[0m\n\u001b[1;32m    983\u001b[0m                     \u001b[0;31m# If we have a view on v, we need to make a copy because\u001b[0m\u001b[0;34m\u001b[0m\u001b[0;34m\u001b[0m\u001b[0m\n",
            "\u001b[0;32m<ipython-input-10-bb4e24e9e617>\u001b[0m in \u001b[0;36m<lambda>\u001b[0;34m(row)\u001b[0m\n\u001b[1;32m     24\u001b[0m \u001b[0;34m\u001b[0m\u001b[0m\n\u001b[1;32m     25\u001b[0m     test['prediction'] = test.apply(\n\u001b[0;32m---> 26\u001b[0;31m         lambda row: predictor(row['image_link'], row['group_id'], row['entity_name']), axis=1)\n\u001b[0m\u001b[1;32m     27\u001b[0m \u001b[0;34m\u001b[0m\u001b[0m\n\u001b[1;32m     28\u001b[0m     \u001b[0moutput_filename\u001b[0m \u001b[0;34m=\u001b[0m \u001b[0mos\u001b[0m\u001b[0;34m.\u001b[0m\u001b[0mpath\u001b[0m\u001b[0;34m.\u001b[0m\u001b[0mjoin\u001b[0m\u001b[0;34m(\u001b[0m\u001b[0mDATASET_FOLDER\u001b[0m\u001b[0;34m,\u001b[0m \u001b[0;34m'test_out.csv'\u001b[0m\u001b[0;34m)\u001b[0m\u001b[0;34m\u001b[0m\u001b[0;34m\u001b[0m\u001b[0m\n",
            "\u001b[0;32m<ipython-input-10-bb4e24e9e617>\u001b[0m in \u001b[0;36mpredictor\u001b[0;34m(url, category_id, entity_name)\u001b[0m\n\u001b[1;32m      9\u001b[0m     \u001b[0mi\u001b[0m \u001b[0;34m+=\u001b[0m \u001b[0;36m1\u001b[0m\u001b[0;34m\u001b[0m\u001b[0;34m\u001b[0m\u001b[0m\n\u001b[1;32m     10\u001b[0m     \u001b[0mprint\u001b[0m\u001b[0;34m(\u001b[0m\u001b[0mi\u001b[0m\u001b[0;34m)\u001b[0m\u001b[0;34m\u001b[0m\u001b[0;34m\u001b[0m\u001b[0m\n\u001b[0;32m---> 11\u001b[0;31m     \u001b[0mres\u001b[0m \u001b[0;34m=\u001b[0m \u001b[0mget_text\u001b[0m\u001b[0;34m(\u001b[0m\u001b[0murl\u001b[0m\u001b[0;34m)\u001b[0m\u001b[0;34m\u001b[0m\u001b[0;34m\u001b[0m\u001b[0m\n\u001b[0m\u001b[1;32m     12\u001b[0m     \u001b[0mf\u001b[0m \u001b[0;34m=\u001b[0m \u001b[0mfind_value\u001b[0m\u001b[0;34m(\u001b[0m\u001b[0mres\u001b[0m\u001b[0;34m)\u001b[0m\u001b[0;34m\u001b[0m\u001b[0;34m\u001b[0m\u001b[0m\n\u001b[1;32m     13\u001b[0m     \u001b[0;32mif\u001b[0m \u001b[0mlen\u001b[0m\u001b[0;34m(\u001b[0m\u001b[0mf\u001b[0m\u001b[0;34m)\u001b[0m \u001b[0;34m>\u001b[0m \u001b[0;36m0\u001b[0m\u001b[0;34m:\u001b[0m\u001b[0;34m\u001b[0m\u001b[0;34m\u001b[0m\u001b[0m\n",
            "\u001b[0;32m<ipython-input-7-c733b6de6da9>\u001b[0m in \u001b[0;36mget_text\u001b[0;34m(url)\u001b[0m\n\u001b[1;32m      3\u001b[0m     \u001b[0mimage\u001b[0m \u001b[0;34m=\u001b[0m \u001b[0mdownload_image\u001b[0m\u001b[0;34m(\u001b[0m\u001b[0murl\u001b[0m\u001b[0;34m)\u001b[0m\u001b[0;34m\u001b[0m\u001b[0;34m\u001b[0m\u001b[0m\n\u001b[1;32m      4\u001b[0m     \u001b[0mimage_np\u001b[0m \u001b[0;34m=\u001b[0m \u001b[0mnp\u001b[0m\u001b[0;34m.\u001b[0m\u001b[0marray\u001b[0m\u001b[0;34m(\u001b[0m\u001b[0mimage\u001b[0m\u001b[0;34m)\u001b[0m\u001b[0;34m\u001b[0m\u001b[0;34m\u001b[0m\u001b[0m\n\u001b[0;32m----> 5\u001b[0;31m     \u001b[0mresult\u001b[0m \u001b[0;34m=\u001b[0m \u001b[0mocr\u001b[0m\u001b[0;34m.\u001b[0m\u001b[0mocr\u001b[0m\u001b[0;34m(\u001b[0m\u001b[0mimage_np\u001b[0m\u001b[0;34m,\u001b[0m \u001b[0mcls\u001b[0m\u001b[0;34m=\u001b[0m\u001b[0;32mTrue\u001b[0m\u001b[0;34m)\u001b[0m\u001b[0;34m\u001b[0m\u001b[0;34m\u001b[0m\u001b[0m\n\u001b[0m\u001b[1;32m      6\u001b[0m     \u001b[0;31m# print(result)\u001b[0m\u001b[0;34m\u001b[0m\u001b[0;34m\u001b[0m\u001b[0m\n\u001b[1;32m      7\u001b[0m     \u001b[0;32mtry\u001b[0m\u001b[0;34m:\u001b[0m\u001b[0;34m\u001b[0m\u001b[0;34m\u001b[0m\u001b[0m\n",
            "\u001b[0;32m/usr/local/lib/python3.10/dist-packages/paddleocr/paddleocr.py\u001b[0m in \u001b[0;36mocr\u001b[0;34m(self, img, det, rec, cls, bin, inv, alpha_color, slice)\u001b[0m\n\u001b[1;32m    727\u001b[0m             \u001b[0;32mfor\u001b[0m \u001b[0midx\u001b[0m\u001b[0;34m,\u001b[0m \u001b[0mimg\u001b[0m \u001b[0;32min\u001b[0m \u001b[0menumerate\u001b[0m\u001b[0;34m(\u001b[0m\u001b[0mimgs\u001b[0m\u001b[0;34m)\u001b[0m\u001b[0;34m:\u001b[0m\u001b[0;34m\u001b[0m\u001b[0;34m\u001b[0m\u001b[0m\n\u001b[1;32m    728\u001b[0m                 \u001b[0mimg\u001b[0m \u001b[0;34m=\u001b[0m \u001b[0mpreprocess_image\u001b[0m\u001b[0;34m(\u001b[0m\u001b[0mimg\u001b[0m\u001b[0;34m)\u001b[0m\u001b[0;34m\u001b[0m\u001b[0;34m\u001b[0m\u001b[0m\n\u001b[0;32m--> 729\u001b[0;31m                 \u001b[0mdt_boxes\u001b[0m\u001b[0;34m,\u001b[0m \u001b[0mrec_res\u001b[0m\u001b[0;34m,\u001b[0m \u001b[0m_\u001b[0m \u001b[0;34m=\u001b[0m \u001b[0mself\u001b[0m\u001b[0;34m.\u001b[0m\u001b[0m__call__\u001b[0m\u001b[0;34m(\u001b[0m\u001b[0mimg\u001b[0m\u001b[0;34m,\u001b[0m \u001b[0mcls\u001b[0m\u001b[0;34m,\u001b[0m \u001b[0mslice\u001b[0m\u001b[0;34m)\u001b[0m\u001b[0;34m\u001b[0m\u001b[0;34m\u001b[0m\u001b[0m\n\u001b[0m\u001b[1;32m    730\u001b[0m                 \u001b[0;32mif\u001b[0m \u001b[0;32mnot\u001b[0m \u001b[0mdt_boxes\u001b[0m \u001b[0;32mand\u001b[0m \u001b[0;32mnot\u001b[0m \u001b[0mrec_res\u001b[0m\u001b[0;34m:\u001b[0m\u001b[0;34m\u001b[0m\u001b[0;34m\u001b[0m\u001b[0m\n\u001b[1;32m    731\u001b[0m                     \u001b[0mocr_res\u001b[0m\u001b[0;34m.\u001b[0m\u001b[0mappend\u001b[0m\u001b[0;34m(\u001b[0m\u001b[0;32mNone\u001b[0m\u001b[0;34m)\u001b[0m\u001b[0;34m\u001b[0m\u001b[0;34m\u001b[0m\u001b[0m\n",
            "\u001b[0;32m/usr/local/lib/python3.10/dist-packages/paddleocr/tools/infer/predict_system.py\u001b[0m in \u001b[0;36m__call__\u001b[0;34m(self, img, cls, slice)\u001b[0m\n\u001b[1;32m    107\u001b[0m             \u001b[0melapse\u001b[0m \u001b[0;34m=\u001b[0m \u001b[0msum\u001b[0m\u001b[0;34m(\u001b[0m\u001b[0melapsed\u001b[0m\u001b[0;34m)\u001b[0m\u001b[0;34m\u001b[0m\u001b[0;34m\u001b[0m\u001b[0m\n\u001b[1;32m    108\u001b[0m         \u001b[0;32melse\u001b[0m\u001b[0;34m:\u001b[0m\u001b[0;34m\u001b[0m\u001b[0;34m\u001b[0m\u001b[0m\n\u001b[0;32m--> 109\u001b[0;31m             \u001b[0mdt_boxes\u001b[0m\u001b[0;34m,\u001b[0m \u001b[0melapse\u001b[0m \u001b[0;34m=\u001b[0m \u001b[0mself\u001b[0m\u001b[0;34m.\u001b[0m\u001b[0mtext_detector\u001b[0m\u001b[0;34m(\u001b[0m\u001b[0mimg\u001b[0m\u001b[0;34m)\u001b[0m\u001b[0;34m\u001b[0m\u001b[0;34m\u001b[0m\u001b[0m\n\u001b[0m\u001b[1;32m    110\u001b[0m \u001b[0;34m\u001b[0m\u001b[0m\n\u001b[1;32m    111\u001b[0m         \u001b[0mtime_dict\u001b[0m\u001b[0;34m[\u001b[0m\u001b[0;34m\"det\"\u001b[0m\u001b[0;34m]\u001b[0m \u001b[0;34m=\u001b[0m \u001b[0melapse\u001b[0m\u001b[0;34m\u001b[0m\u001b[0;34m\u001b[0m\u001b[0m\n",
            "\u001b[0;32m/usr/local/lib/python3.10/dist-packages/paddleocr/tools/infer/predict_det.py\u001b[0m in \u001b[0;36m__call__\u001b[0;34m(self, img, use_slice)\u001b[0m\n\u001b[1;32m    394\u001b[0m                 \u001b[0melapse\u001b[0m \u001b[0;34m+=\u001b[0m \u001b[0msub_elapse\u001b[0m\u001b[0;34m\u001b[0m\u001b[0;34m\u001b[0m\u001b[0m\n\u001b[1;32m    395\u001b[0m         \u001b[0;32melse\u001b[0m\u001b[0;34m:\u001b[0m\u001b[0;34m\u001b[0m\u001b[0;34m\u001b[0m\u001b[0m\n\u001b[0;32m--> 396\u001b[0;31m             \u001b[0mdt_boxes\u001b[0m\u001b[0;34m,\u001b[0m \u001b[0melapse\u001b[0m \u001b[0;34m=\u001b[0m \u001b[0mself\u001b[0m\u001b[0;34m.\u001b[0m\u001b[0mpredict\u001b[0m\u001b[0;34m(\u001b[0m\u001b[0mimg\u001b[0m\u001b[0;34m)\u001b[0m\u001b[0;34m\u001b[0m\u001b[0;34m\u001b[0m\u001b[0m\n\u001b[0m\u001b[1;32m    397\u001b[0m         \u001b[0;32mreturn\u001b[0m \u001b[0mdt_boxes\u001b[0m\u001b[0;34m,\u001b[0m \u001b[0melapse\u001b[0m\u001b[0;34m\u001b[0m\u001b[0;34m\u001b[0m\u001b[0m\n\u001b[1;32m    398\u001b[0m \u001b[0;34m\u001b[0m\u001b[0m\n",
            "\u001b[0;32m/usr/local/lib/python3.10/dist-packages/paddleocr/tools/infer/predict_det.py\u001b[0m in \u001b[0;36mpredict\u001b[0;34m(self, img)\u001b[0m\n\u001b[1;32m    253\u001b[0m         \u001b[0;32melse\u001b[0m\u001b[0;34m:\u001b[0m\u001b[0;34m\u001b[0m\u001b[0;34m\u001b[0m\u001b[0m\n\u001b[1;32m    254\u001b[0m             \u001b[0mself\u001b[0m\u001b[0;34m.\u001b[0m\u001b[0minput_tensor\u001b[0m\u001b[0;34m.\u001b[0m\u001b[0mcopy_from_cpu\u001b[0m\u001b[0;34m(\u001b[0m\u001b[0mimg\u001b[0m\u001b[0;34m)\u001b[0m\u001b[0;34m\u001b[0m\u001b[0;34m\u001b[0m\u001b[0m\n\u001b[0;32m--> 255\u001b[0;31m             \u001b[0mself\u001b[0m\u001b[0;34m.\u001b[0m\u001b[0mpredictor\u001b[0m\u001b[0;34m.\u001b[0m\u001b[0mrun\u001b[0m\u001b[0;34m(\u001b[0m\u001b[0;34m)\u001b[0m\u001b[0;34m\u001b[0m\u001b[0;34m\u001b[0m\u001b[0m\n\u001b[0m\u001b[1;32m    256\u001b[0m             \u001b[0moutputs\u001b[0m \u001b[0;34m=\u001b[0m \u001b[0;34m[\u001b[0m\u001b[0;34m]\u001b[0m\u001b[0;34m\u001b[0m\u001b[0;34m\u001b[0m\u001b[0m\n\u001b[1;32m    257\u001b[0m             \u001b[0;32mfor\u001b[0m \u001b[0moutput_tensor\u001b[0m \u001b[0;32min\u001b[0m \u001b[0mself\u001b[0m\u001b[0;34m.\u001b[0m\u001b[0moutput_tensors\u001b[0m\u001b[0;34m:\u001b[0m\u001b[0;34m\u001b[0m\u001b[0;34m\u001b[0m\u001b[0m\n",
            "\u001b[0;31mKeyboardInterrupt\u001b[0m: "
          ]
        }
      ],
      "source": [
        "i = 0\n",
        "\n",
        "def predictor(url, category_id, entity_name):\n",
        "    '''\n",
        "    Call your model/approach here\n",
        "    '''\n",
        "    #TODO\n",
        "    global i\n",
        "    i += 1\n",
        "    print(i)\n",
        "    res = get_text(url)\n",
        "    f = find_value(res)\n",
        "    if len(f) > 0:\n",
        "      print(f[0])\n",
        "      return f[0]\n",
        "    else:\n",
        "      print(\"no\")\n",
        "      return \" \"\n",
        "\n",
        "if __name__ == \"__main__\":\n",
        "    DATASET_FOLDER = '../dataset/'\n",
        "\n",
        "    test = pd.read_csv('downloaded_file.csv')\n",
        "\n",
        "    test['prediction'] = test.apply(\n",
        "        lambda row: predictor(row['image_link'], row['group_id'], row['entity_name']), axis=1)\n",
        "\n",
        "    output_filename = os.path.join(DATASET_FOLDER, 'test_out.csv')\n",
        "    test[['index', 'prediction']].to_csv(output_filename, index=False)"
      ]
    }
  ]
}